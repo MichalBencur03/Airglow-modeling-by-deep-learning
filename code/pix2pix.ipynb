{
 "cells": [
  {
   "cell_type": "code",
   "execution_count": 20,
   "metadata": {},
   "outputs": [
    {
     "name": "stdout",
     "output_type": "stream",
     "text": [
      "Requirement already satisfied: dominate in /opt/conda/lib/python3.8/site-packages (2.6.0)\n"
     ]
    }
   ],
   "source": [
    "!pip install dominate"
   ]
  },
  {
   "cell_type": "code",
   "execution_count": 13,
   "metadata": {
    "collapsed": true,
    "jupyter": {
     "outputs_hidden": true
    }
   },
   "outputs": [
    {
     "name": "stdout",
     "output_type": "stream",
     "text": [
      "------------ Options -------------\n",
      "batchSize: 1\n",
      "beta1: 0.5\n",
      "checkpoints_dir: ./checkpoints\n",
      "continue_train: True\n",
      "data_type: 32\n",
      "dataroot: pix2pixHD/datasets/south_year/\n",
      "debug: False\n",
      "display_freq: 100\n",
      "display_winsize: 512\n",
      "feat_num: 3\n",
      "fineSize: 512\n",
      "fps: 24.0\n",
      "gpu_ids: [0]\n",
      "heat_seeking_lvl: 0\n",
      "input_nc: 3\n",
      "instance_feat: False\n",
      "isTrain: True\n",
      "label_feat: False\n",
      "label_nc: 35\n",
      "lambda_feat: 10.0\n",
      "loadSize: 1024\n",
      "load_features: False\n",
      "load_pretrain: \n",
      "lr: 0.0002\n",
      "max_dataset_size: inf\n",
      "model: pix2pixHD\n",
      "nThreads: 2\n",
      "n_blocks_global: 9\n",
      "n_blocks_local: 3\n",
      "n_clusters: 10\n",
      "n_downsample_E: 4\n",
      "n_downsample_global: 4\n",
      "n_layers_D: 3\n",
      "n_local_enhancers: 1\n",
      "name: year_south\n",
      "ndf: 64\n",
      "nef: 16\n",
      "netG: global\n",
      "ngf: 64\n",
      "niter: 100\n",
      "niter_decay: 100\n",
      "niter_fix_global: 0\n",
      "no_flip: False\n",
      "no_ganFeat_loss: False\n",
      "no_html: False\n",
      "no_instance: False\n",
      "no_lsgan: False\n",
      "no_vgg_loss: False\n",
      "norm: instance\n",
      "num_D: 2\n",
      "output_nc: 3\n",
      "phase: train\n",
      "pool_size: 0\n",
      "print_freq: 100\n",
      "pstart: 1\n",
      "pstop: 1\n",
      "resize_or_crop: scale_width\n",
      "save_epoch_freq: 5\n",
      "save_latest_freq: 1000\n",
      "scheduled_sampling: False\n",
      "serial_batches: False\n",
      "ss_recursion_prob: 0.2\n",
      "start_from: video\n",
      "tf_log: False\n",
      "use_dropout: False\n",
      "verbose: False\n",
      "video_mode: False\n",
      "which_epoch: latest\n",
      "zoom_lvl: 0\n",
      "-------------- End ----------------\n",
      "Resuming from epoch 201 at iteration 0\n",
      "CustomDatasetDataLoader\n",
      "dataset [FrameDataset] was created\n",
      "FrameDataset initialized from: pix2pixHD/datasets/south_year/train_frames\n",
      "contains 3627 frames, 3626 consecutive pairs\n",
      "#training images = 3626\n",
      "^C\n",
      "Traceback (most recent call last):\n",
      "  File \"pix2pixHD/train_video.py\", line 69, in <module>\n",
      "    model = create_model(opt)\n",
      "  File \"/home/jovyan/data/lightning/Michal/pix2pixHD/models/models.py\", line 15, in create_model\n",
      "    model.initialize(opt)\n",
      "  File \"/home/jovyan/data/lightning/Michal/pix2pixHD/models/pix2pixHD_model.py\", line 37, in initialize\n",
      "    self.netG = networks.define_G(netG_input_nc, opt.output_nc, opt.ngf, opt.netG, \n",
      "  File \"/home/jovyan/data/lightning/Michal/pix2pixHD/models/networks.py\", line 33, in define_G\n",
      "    netG = GlobalGenerator(input_nc, output_nc, ngf, n_downsample_global, n_blocks_global, norm_layer)       \n",
      "  File \"/home/jovyan/data/lightning/Michal/pix2pixHD/models/networks.py\", line 202, in __init__\n",
      "    model += [ResnetBlock(ngf * mult, padding_type=padding_type, activation=activation, norm_layer=norm_layer)]\n",
      "  File \"/home/jovyan/data/lightning/Michal/pix2pixHD/models/networks.py\", line 219, in __init__\n",
      "    self.conv_block = self.build_conv_block(dim, padding_type, norm_layer, activation, use_dropout)\n",
      "  File \"/home/jovyan/data/lightning/Michal/pix2pixHD/models/networks.py\", line 233, in build_conv_block\n",
      "    conv_block += [nn.Conv2d(dim, dim, kernel_size=3, padding=p),\n",
      "  File \"/opt/conda/lib/python3.8/site-packages/torch/nn/modules/conv.py\", line 410, in __init__\n",
      "    super(Conv2d, self).__init__(\n",
      "  File \"/opt/conda/lib/python3.8/site-packages/torch/nn/modules/conv.py\", line 83, in __init__\n",
      "    self.reset_parameters()\n",
      "  File \"/opt/conda/lib/python3.8/site-packages/torch/nn/modules/conv.py\", line 86, in reset_parameters\n",
      "    init.kaiming_uniform_(self.weight, a=math.sqrt(5))\n",
      "  File \"/opt/conda/lib/python3.8/site-packages/torch/nn/init.py\", line 384, in kaiming_uniform_\n",
      "    return tensor.uniform_(-bound, bound)\n",
      "KeyboardInterrupt\n"
     ]
    }
   ],
   "source": [
    "!python pix2pixHD/train_video.py --name year_south --dataroot pix2pixHD/datasets/south_year/ --save_epoch_freq 5  #--continue_train"
   ]
  },
  {
   "cell_type": "code",
   "execution_count": 19,
   "metadata": {
    "collapsed": true,
    "jupyter": {
     "outputs_hidden": true
    }
   },
   "outputs": [
    {
     "name": "stdout",
     "output_type": "stream",
     "text": [
      "------------ Options -------------\n",
      "aspect_ratio: 1.0\n",
      "batchSize: 1\n",
      "checkpoints_dir: ./checkpoints\n",
      "cluster_path: features_clustered_010.npy\n",
      "data_type: 32\n",
      "dataroot: pix2pixHD/datasets/north_year/\n",
      "display_winsize: 512\n",
      "engine: None\n",
      "export_onnx: None\n",
      "feat_num: 3\n",
      "fineSize: 512\n",
      "fps: 24.0\n",
      "gpu_ids: [0]\n",
      "heat_seeking_lvl: 0\n",
      "how_many: 6\n",
      "input_nc: 3\n",
      "instance_feat: False\n",
      "isTrain: False\n",
      "label_feat: False\n",
      "label_nc: 35\n",
      "loadSize: 1024\n",
      "load_features: False\n",
      "max_dataset_size: inf\n",
      "model: pix2pixHD\n",
      "nThreads: 2\n",
      "n_blocks_global: 9\n",
      "n_blocks_local: 3\n",
      "n_clusters: 10\n",
      "n_downsample_E: 4\n",
      "n_downsample_global: 4\n",
      "n_local_enhancers: 1\n",
      "name: year_north\n",
      "nef: 16\n",
      "netG: global\n",
      "ngf: 64\n",
      "niter_fix_global: 0\n",
      "no_flip: False\n",
      "no_instance: False\n",
      "norm: instance\n",
      "ntest: inf\n",
      "onnx: None\n",
      "output_nc: 3\n",
      "phase: test\n",
      "pstart: 1\n",
      "pstop: 1\n",
      "resize_or_crop: scale_width\n",
      "results_dir: ./results/\n",
      "scheduled_sampling: False\n",
      "serial_batches: False\n",
      "ss_recursion_prob: 0.2\n",
      "start_from: video\n",
      "tf_log: False\n",
      "use_dropout: False\n",
      "use_encoded_image: False\n",
      "verbose: False\n",
      "video_mode: False\n",
      "which_epoch: 100\n",
      "zoom_lvl: 0\n",
      "-------------- End ----------------\n",
      "CustomDatasetDataLoader\n",
      "dataset [FrameDataset] was created\n",
      "FrameDataset initialized from: pix2pixHD/datasets/north_year/test_frames\n",
      "contains 5 frames, 4 consecutive pairs\n",
      "100%|█████████████████████████████████████████████| 6/6 [00:00<00:00,  7.16it/s]\n",
      "ffmpeg -v 16 -framerate 24 -i ./checkpoints/year_north/frames/frame-%05d.jpg -ss 1 -q:v 2 -filter:v \"crop=1280:720:0:16\" ./checkpoints/year_north/output/epoch-100_year_north_0.2-s_24.0-fps.mp4\n",
      "building video from frames\n",
      "\u001b[1;32m[Parsed_crop_0 @ 0x55c8be6b35e0] \u001b[0m\u001b[1;31mInvalid too big or non positive size for width '1280' or height '720'\n",
      "\u001b[0m\u001b[1;32m[Parsed_crop_0 @ 0x55c8be6b35e0] \u001b[0m\u001b[1;31mFailed to configure input pad on Parsed_crop_0\n",
      "\u001b[0m\u001b[1;31mError reinitializing filters!\n",
      "\u001b[0m\u001b[1;31mFailed to inject frame into filter network: Invalid argument\n",
      "\u001b[0m\u001b[4;31mError while processing the decoded data for stream #0:0\n",
      "\u001b[0mvideo ready:\n",
      "./checkpoints/year_north/output/epoch-100_year_north_0.2-s_24.0-fps.mp4\n"
     ]
    }
   ],
   "source": [
    "!python pix2pixHD/generate_video.py --name year_north --dataroot pix2pixHD/datasets/north_year/ --how_many 6  --which_epoch 200 "
   ]
  },
  {
   "cell_type": "code",
   "execution_count": null,
   "metadata": {},
   "outputs": [],
   "source": []
  }
 ],
 "metadata": {
  "kernelspec": {
   "display_name": "Python 3",
   "language": "python",
   "name": "python3"
  },
  "language_info": {
   "codemirror_mode": {
    "name": "ipython",
    "version": 3
   },
   "file_extension": ".py",
   "mimetype": "text/x-python",
   "name": "python",
   "nbconvert_exporter": "python",
   "pygments_lexer": "ipython3",
   "version": "3.8.6"
  }
 },
 "nbformat": 4,
 "nbformat_minor": 4
}
