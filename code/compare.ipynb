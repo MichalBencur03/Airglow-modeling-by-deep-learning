{
 "cells": [
  {
   "cell_type": "code",
   "execution_count": 20,
   "metadata": {},
   "outputs": [
    {
     "name": "stdout",
     "output_type": "stream",
     "text": [
      "Requirement already satisfied: sewar in /opt/conda/lib/python3.8/site-packages (0.4.5)\n",
      "Requirement already satisfied: numpy in /opt/conda/lib/python3.8/site-packages (from sewar) (1.22.3)\n",
      "Requirement already satisfied: scipy in /opt/conda/lib/python3.8/site-packages (from sewar) (1.5.3)\n",
      "Requirement already satisfied: Pillow in /opt/conda/lib/python3.8/site-packages (from sewar) (8.0.1)\n",
      "Requirement already satisfied: numpy in /opt/conda/lib/python3.8/site-packages (from sewar) (1.22.3)\n"
     ]
    }
   ],
   "source": [
    "!pip install sewar"
   ]
  },
  {
   "cell_type": "code",
   "execution_count": 5,
   "metadata": {},
   "outputs": [],
   "source": [
    "from PIL import Image\n",
    "from sewar.full_ref import mse, psnr\n",
    "import numpy as np\n",
    "import pandas as pd  "
   ]
  },
  {
   "cell_type": "code",
   "execution_count": 22,
   "metadata": {},
   "outputs": [
    {
     "name": "stdout",
     "output_type": "stream",
     "text": [
      "          MSE       PSNR\n",
      "0  678.478579  19.815442\n",
      "1  636.030252  20.096026\n",
      "2  588.274104  20.435006\n",
      "3  412.633120  21.975163\n",
      "4  443.947465  21.657488\n"
     ]
    }
   ],
   "source": [
    "#default\n",
    "im1 = Image.open(\"checkpoints/south1/6 input frames/frame-00006.png\")\n",
    "im1 = np.array(im1)\n",
    "im2 = Image.open(\"checkpoints/south1/6 input frames/frame-00007.png\")\n",
    "im2 = np.array(im2)\n",
    "im3 = Image.open(\"checkpoints/south1/6 input frames/frame-00008.png\")\n",
    "im3 = np.array(im3)\n",
    "im4 = Image.open(\"checkpoints/south1/6 input frames/frame-00009.png\")\n",
    "im4 = np.array(im4)\n",
    "im5 = Image.open(\"checkpoints/south1/6 input frames/frame-00010.png\")\n",
    "im5 = np.array(im5)\n",
    "org1 = Image.open(\"pix2pixHD/datasets/south/for testing/2021-02-21_22_55_CHB_1356_2.png\")\n",
    "org1 = np.array(org1)\n",
    "org2 = Image.open(\"pix2pixHD/datasets/south/for testing/2021-02-21_23_10_CHA_1356_2.png\")\n",
    "org2 = np.array(org2)\n",
    "org3 = Image.open(\"pix2pixHD/datasets/south/for testing/2021-02-21_23_25_CHA_1356_2.png\")\n",
    "org3 = np.array(org3)\n",
    "org4 = Image.open(\"pix2pixHD/datasets/south/for testing/2021-02-21_23_40_CHA_1356_2.png\")\n",
    "org4 = np.array(org4)\n",
    "org5 = Image.open(\"pix2pixHD/datasets/south/for testing/2021-02-21_23_55_CHA_1356_2.png\")\n",
    "org5 = np.array(org5)\n",
    "\n",
    "data = [[mse(im1,org1), psnr(im1, org1)], \n",
    "        [mse(im2,org2), psnr(im2, org2)], \n",
    "        [mse(im3,org3), psnr(im3, org3)], \n",
    "        [mse(im4,org4), psnr(im4, org4)], \n",
    "        [mse(im5,org5), psnr(im5, org5)]]\n",
    "print(pd.DataFrame(data, columns=[\"MSE\", \"PSNR\"]))"
   ]
  },
  {
   "cell_type": "code",
   "execution_count": 23,
   "metadata": {},
   "outputs": [
    {
     "name": "stdout",
     "output_type": "stream",
     "text": [
      "          MSE       PSNR\n",
      "0  681.603856  19.795483\n",
      "1  710.175462  19.617147\n",
      "2  720.652039  19.553547\n",
      "3  518.502610  20.983294\n",
      "4  510.191430  21.053472\n"
     ]
    }
   ],
   "source": [
    "#batchsize = 5\n",
    "im1 = Image.open(\"checkpoints/batchsize/frames/frame-00006.png\")\n",
    "im1 = np.array(im1)\n",
    "im2 = Image.open(\"checkpoints/batchsize/frames/frame-00007.png\")\n",
    "im2 = np.array(im2)\n",
    "im3 = Image.open(\"checkpoints/batchsize/frames/frame-00008.png\")\n",
    "im3 = np.array(im3)\n",
    "im4 = Image.open(\"checkpoints/batchsize/frames/frame-00009.png\")\n",
    "im4 = np.array(im4)\n",
    "im5 = Image.open(\"checkpoints/batchsize/frames/frame-00010.png\")\n",
    "im5 = np.array(im5)\n",
    "org1 = Image.open(\"pix2pixHD/datasets/south/for testing/2021-02-21_22_55_CHB_1356_2.png\")\n",
    "org1 = np.array(org1)\n",
    "org2 = Image.open(\"pix2pixHD/datasets/south/for testing/2021-02-21_23_10_CHA_1356_2.png\")\n",
    "org2 = np.array(org2)\n",
    "org3 = Image.open(\"pix2pixHD/datasets/south/for testing/2021-02-21_23_25_CHA_1356_2.png\")\n",
    "org3 = np.array(org3)\n",
    "org4 = Image.open(\"pix2pixHD/datasets/south/for testing/2021-02-21_23_40_CHA_1356_2.png\")\n",
    "org4 = np.array(org4)\n",
    "org5 = Image.open(\"pix2pixHD/datasets/south/for testing/2021-02-21_23_55_CHA_1356_2.png\")\n",
    "org5 = np.array(org5)\n",
    "\n",
    "data = [[mse(im1,org1), psnr(im1, org1)], \n",
    "        [mse(im2,org2), psnr(im2, org2)], \n",
    "        [mse(im3,org3), psnr(im3, org3)], \n",
    "        [mse(im4,org4), psnr(im4, org4)], \n",
    "        [mse(im5,org5), psnr(im5, org5)]]\n",
    "print(pd.DataFrame(data, columns=[\"MSE\", \"PSNR\"]))"
   ]
  },
  {
   "cell_type": "code",
   "execution_count": 24,
   "metadata": {},
   "outputs": [
    {
     "name": "stdout",
     "output_type": "stream",
     "text": [
      "          MSE       PSNR\n",
      "0  668.249913  19.881415\n",
      "1  599.864044  20.350275\n",
      "2  592.242329  20.405809\n",
      "3  369.018570  22.460321\n",
      "4  423.873065  21.858445\n"
     ]
    }
   ],
   "source": [
    "#fps = 1\n",
    "im1 = Image.open(\"checkpoints/fps1/frames/frame-00006.png\")\n",
    "im1 = np.array(im1)\n",
    "im2 = Image.open(\"checkpoints/fps1/frames/frame-00007.png\")\n",
    "im2 = np.array(im2)\n",
    "im3 = Image.open(\"checkpoints/fps1/frames/frame-00008.png\")\n",
    "im3 = np.array(im3)\n",
    "im4 = Image.open(\"checkpoints/fps1/frames/frame-00009.png\")\n",
    "im4 = np.array(im4)\n",
    "im5 = Image.open(\"checkpoints/fps1/frames/frame-00010.png\")\n",
    "im5 = np.array(im5)\n",
    "org1 = Image.open(\"pix2pixHD/datasets/south/for testing/2021-02-21_22_55_CHB_1356_2.png\")\n",
    "org1 = np.array(org1)\n",
    "org2 = Image.open(\"pix2pixHD/datasets/south/for testing/2021-02-21_23_10_CHA_1356_2.png\")\n",
    "org2 = np.array(org2)\n",
    "org3 = Image.open(\"pix2pixHD/datasets/south/for testing/2021-02-21_23_25_CHA_1356_2.png\")\n",
    "org3 = np.array(org3)\n",
    "org4 = Image.open(\"pix2pixHD/datasets/south/for testing/2021-02-21_23_40_CHA_1356_2.png\")\n",
    "org4 = np.array(org4)\n",
    "org5 = Image.open(\"pix2pixHD/datasets/south/for testing/2021-02-21_23_55_CHA_1356_2.png\")\n",
    "org5 = np.array(org5)\n",
    "\n",
    "data = [[mse(im1,org1), psnr(im1, org1)], \n",
    "        [mse(im2,org2), psnr(im2, org2)], \n",
    "        [mse(im3,org3), psnr(im3, org3)], \n",
    "        [mse(im4,org4), psnr(im4, org4)], \n",
    "        [mse(im5,org5), psnr(im5, org5)]]\n",
    "print(pd.DataFrame(data, columns=[\"MSE\", \"PSNR\"]))"
   ]
  },
  {
   "cell_type": "code",
   "execution_count": 25,
   "metadata": {},
   "outputs": [
    {
     "name": "stdout",
     "output_type": "stream",
     "text": [
      "           MSE       PSNR\n",
      "0  3134.091224  13.169687\n",
      "1  3449.103039  12.753742\n",
      "2  3099.919602  13.217299\n",
      "3  2543.577640  14.076354\n",
      "4  2161.657890  14.782934\n"
     ]
    }
   ],
   "source": [
    "#only 2 pics \n",
    "im1 = Image.open(\"checkpoints/south1/frames/frame-00002.png\")\n",
    "im1 = np.array(im1)\n",
    "im2 = Image.open(\"checkpoints/south1/frames/frame-00003.png\")\n",
    "im2 = np.array(im2)\n",
    "im3 = Image.open(\"checkpoints/south1/frames/frame-00004.png\")\n",
    "im3 = np.array(im3)\n",
    "im4 = Image.open(\"checkpoints/south1/frames/frame-00005.png\")\n",
    "im4 = np.array(im4)\n",
    "im5 = Image.open(\"checkpoints/south1/frames/frame-00006.png\")\n",
    "im5 = np.array(im5)\n",
    "org1 = Image.open(\"pix2pixHD/datasets/south/for testing/2021-02-21_22_55_CHB_1356_2.png\")\n",
    "org1 = np.array(org1)\n",
    "org2 = Image.open(\"pix2pixHD/datasets/south/for testing/2021-02-21_23_10_CHA_1356_2.png\")\n",
    "org2 = np.array(org2)\n",
    "org3 = Image.open(\"pix2pixHD/datasets/south/for testing/2021-02-21_23_25_CHA_1356_2.png\")\n",
    "org3 = np.array(org3)\n",
    "org4 = Image.open(\"pix2pixHD/datasets/south/for testing/2021-02-21_23_40_CHA_1356_2.png\")\n",
    "org4 = np.array(org4)\n",
    "org5 = Image.open(\"pix2pixHD/datasets/south/for testing/2021-02-21_23_55_CHA_1356_2.png\")\n",
    "org5 = np.array(org5)\n",
    "\n",
    "data = [[mse(im1,org1), psnr(im1, org1)], \n",
    "        [mse(im2,org2), psnr(im2, org2)], \n",
    "        [mse(im3,org3), psnr(im3, org3)], \n",
    "        [mse(im4,org4), psnr(im4, org4)], \n",
    "        [mse(im5,org5), psnr(im5, org5)]]\n",
    "print(pd.DataFrame(data, columns=[\"MSE\", \"PSNR\"]))"
   ]
  },
  {
   "cell_type": "code",
   "execution_count": 26,
   "metadata": {},
   "outputs": [
    {
     "name": "stdout",
     "output_type": "stream",
     "text": [
      "          MSE       PSNR\n",
      "0  648.014169  20.014959\n",
      "1  636.912257  20.090008\n",
      "2  616.317555  20.232758\n",
      "3  416.059682  21.939247\n",
      "4  478.572018  21.331331\n"
     ]
    }
   ],
   "source": [
    "#settings1\n",
    "im1 = Image.open(\"checkpoints/settings1/frames/frame-00006.png\")\n",
    "im1 = np.array(im1)\n",
    "im2 = Image.open(\"checkpoints/settings1/frames/frame-00007.png\")\n",
    "im2 = np.array(im2)\n",
    "im3 = Image.open(\"checkpoints/settings1/frames/frame-00008.png\")\n",
    "im3 = np.array(im3)\n",
    "im4 = Image.open(\"checkpoints/settings1/frames/frame-00009.png\")\n",
    "im4 = np.array(im4)\n",
    "im5 = Image.open(\"checkpoints/settings1/frames/frame-00010.png\")\n",
    "im5 = np.array(im5)\n",
    "org1 = Image.open(\"pix2pixHD/datasets/south/for testing/2021-02-21_22_55_CHB_1356_2.png\")\n",
    "org1 = np.array(org1)\n",
    "org2 = Image.open(\"pix2pixHD/datasets/south/for testing/2021-02-21_23_10_CHA_1356_2.png\")\n",
    "org2 = np.array(org2)\n",
    "org3 = Image.open(\"pix2pixHD/datasets/south/for testing/2021-02-21_23_25_CHA_1356_2.png\")\n",
    "org3 = np.array(org3)\n",
    "org4 = Image.open(\"pix2pixHD/datasets/south/for testing/2021-02-21_23_40_CHA_1356_2.png\")\n",
    "org4 = np.array(org4)\n",
    "org5 = Image.open(\"pix2pixHD/datasets/south/for testing/2021-02-21_23_55_CHA_1356_2.png\")\n",
    "org5 = np.array(org5)\n",
    "\n",
    "data = [[mse(im1,org1), psnr(im1, org1)], \n",
    "        [mse(im2,org2), psnr(im2, org2)], \n",
    "        [mse(im3,org3), psnr(im3, org3)], \n",
    "        [mse(im4,org4), psnr(im4, org4)], \n",
    "        [mse(im5,org5), psnr(im5, org5)]]\n",
    "print(pd.DataFrame(data, columns=[\"MSE\", \"PSNR\"]))"
   ]
  },
  {
   "cell_type": "code",
   "execution_count": 30,
   "metadata": {},
   "outputs": [
    {
     "name": "stdout",
     "output_type": "stream",
     "text": [
      "          MSE       PSNR\n",
      "0  611.095263  20.269714\n",
      "1  583.150026  20.473001\n",
      "2  539.929826  20.807430\n",
      "3  375.385766  22.386026\n",
      "4  397.769019  22.134494\n"
     ]
    }
   ],
   "source": [
    "#settings2\n",
    "im1 = Image.open(\"checkpoints/settings2/frames/frame-00006.png\")\n",
    "im1 = np.array(im1)\n",
    "im2 = Image.open(\"checkpoints/settings2/frames/frame-00007.png\")\n",
    "im2 = np.array(im2)\n",
    "im3 = Image.open(\"checkpoints/settings2/frames/frame-00008.png\")\n",
    "im3 = np.array(im3)\n",
    "im4 = Image.open(\"checkpoints/settings2/frames/frame-00009.png\")\n",
    "im4 = np.array(im4)\n",
    "im5 = Image.open(\"checkpoints/settings2/frames/frame-00010.png\")\n",
    "im5 = np.array(im5)\n",
    "org1 = Image.open(\"pix2pixHD/datasets/south/for testing/2021-02-21_22_55_CHB_1356_2.png\")\n",
    "org1 = np.array(org1)\n",
    "org2 = Image.open(\"pix2pixHD/datasets/south/for testing/2021-02-21_23_10_CHA_1356_2.png\")\n",
    "org2 = np.array(org2)\n",
    "org3 = Image.open(\"pix2pixHD/datasets/south/for testing/2021-02-21_23_25_CHA_1356_2.png\")\n",
    "org3 = np.array(org3)\n",
    "org4 = Image.open(\"pix2pixHD/datasets/south/for testing/2021-02-21_23_40_CHA_1356_2.png\")\n",
    "org4 = np.array(org4)\n",
    "org5 = Image.open(\"pix2pixHD/datasets/south/for testing/2021-02-21_23_55_CHA_1356_2.png\")\n",
    "org5 = np.array(org5)\n",
    "\n",
    "data = [[mse(im1,org1), psnr(im1, org1)], \n",
    "        [mse(im2,org2), psnr(im2, org2)], \n",
    "        [mse(im3,org3), psnr(im3, org3)], \n",
    "        [mse(im4,org4), psnr(im4, org4)], \n",
    "        [mse(im5,org5), psnr(im5, org5)]]\n",
    "print(pd.DataFrame(data, columns=[\"MSE\", \"PSNR\"]))"
   ]
  },
  {
   "cell_type": "code",
   "execution_count": 34,
   "metadata": {},
   "outputs": [
    {
     "name": "stdout",
     "output_type": "stream",
     "text": [
      "          MSE       PSNR\n",
      "0  252.875000  24.101745\n",
      "1  313.830015  23.163859\n",
      "2  269.385076  23.827068\n",
      "3  308.694291  23.235518\n",
      "4  210.609881  24.896016\n",
      "5  232.444429  24.467612\n"
     ]
    }
   ],
   "source": [
    "#2020-01-20\n",
    "im0 = Image.open(\"checkpoints/year_north/frames/frame-00005.png\")\n",
    "im0 = np.array(im0)\n",
    "im1 = Image.open(\"checkpoints/year_north/frames/frame-00006.png\")\n",
    "im1 = np.array(im1)\n",
    "im2 = Image.open(\"checkpoints/year_north/frames/frame-00007.png\")\n",
    "im2 = np.array(im2)\n",
    "im3 = Image.open(\"checkpoints/year_north/frames/frame-00008.png\")\n",
    "im3 = np.array(im3)\n",
    "im4 = Image.open(\"checkpoints/year_north/frames/frame-00009.png\")\n",
    "im4 = np.array(im4)\n",
    "im5 = Image.open(\"checkpoints/year_north/frames/frame-00010.png\")\n",
    "im5 = np.array(im5)\n",
    "org0 = Image.open(\"pix2pixHD/datasets/north_year/for testing/2020-01-20_22_10_CHB_1356_2.png\")\n",
    "org0 = np.array(org0)\n",
    "org1 = Image.open(\"pix2pixHD/datasets/north_year/for testing/2020-01-20_22_40_CHB_1356_2.png\")\n",
    "org1 = np.array(org1)\n",
    "org2 = Image.open(\"pix2pixHD/datasets/north_year/for testing/2020-01-20_23_10_CHA_1356_2.png\")\n",
    "org2 = np.array(org2)\n",
    "org3 = Image.open(\"pix2pixHD/datasets/north_year/for testing/2020-01-20_23_25_CHA_1356_2.png\")\n",
    "org3 = np.array(org3)\n",
    "org4 = Image.open(\"pix2pixHD/datasets/north_year/for testing/2020-01-20_23_40_CHA_1356_2.png\")\n",
    "org4 = np.array(org4)\n",
    "org5 = Image.open(\"pix2pixHD/datasets/north_year/for testing/2020-01-20_23_55_CHA_1356_2.png\")\n",
    "org5 = np.array(org5)\n",
    "\n",
    "data = [[mse(im0,org0), psnr(im0, org0)],\n",
    "        [mse(im1,org1), psnr(im1, org1)], \n",
    "        [mse(im2,org2), psnr(im2, org2)], \n",
    "        [mse(im3,org3), psnr(im3, org3)], \n",
    "        [mse(im4,org4), psnr(im4, org4)], \n",
    "        [mse(im5,org5), psnr(im5, org5)]]\n",
    "print(pd.DataFrame(data, columns=[\"MSE\",\"PSNR\"]))"
   ]
  },
  {
   "cell_type": "code",
   "execution_count": 35,
   "metadata": {},
   "outputs": [
    {
     "name": "stdout",
     "output_type": "stream",
     "text": [
      "          MSE       PSNR\n",
      "0   83.259754  28.926452\n",
      "1  141.868984  26.611929\n",
      "2  197.964615  25.164928\n",
      "3  242.036642  24.291992\n",
      "4  180.047939  25.576922\n",
      "5  170.603338  25.810928\n"
     ]
    }
   ],
   "source": [
    "#2020-01-02\n",
    "im0 = Image.open(\"checkpoints/year_north/2020-01-02/frame-00005.png\")\n",
    "im0 = np.array(im0)\n",
    "im1 = Image.open(\"checkpoints/year_north/2020-01-02/frame-00006.png\")\n",
    "im1 = np.array(im1)\n",
    "im2 = Image.open(\"checkpoints/year_north/2020-01-02/frame-00007.png\")\n",
    "im2 = np.array(im2)\n",
    "im3 = Image.open(\"checkpoints/year_north/2020-01-02/frame-00008.png\")\n",
    "im3 = np.array(im3)\n",
    "im4 = Image.open(\"checkpoints/year_north/2020-01-02/frame-00009.png\")\n",
    "im4 = np.array(im4)\n",
    "im5 = Image.open(\"checkpoints/year_north/2020-01-02/frame-00010.png\")\n",
    "im5 = np.array(im5)\n",
    "org0 = Image.open(\"pix2pixHD/datasets/north_year/for testing/2020-01-02_22_10_CHB_1356_2.png\")\n",
    "org0 = np.array(org0)\n",
    "org1 = Image.open(\"pix2pixHD/datasets/north_year/for testing/2020-01-02_22_40_CHB_1356_2.png\")\n",
    "org1 = np.array(org1)\n",
    "org2 = Image.open(\"pix2pixHD/datasets/north_year/for testing/2020-01-02_23_10_CHA_1356_2.png\")\n",
    "org2 = np.array(org2)\n",
    "org3 = Image.open(\"pix2pixHD/datasets/north_year/for testing/2020-01-02_23_25_CHA_1356_2.png\")\n",
    "org3 = np.array(org3)\n",
    "org4 = Image.open(\"pix2pixHD/datasets/north_year/for testing/2020-01-02_23_40_CHA_1356_2.png\")\n",
    "org4 = np.array(org4)\n",
    "org5 = Image.open(\"pix2pixHD/datasets/north_year/for testing/2020-01-02_23_55_CHA_1356_2.png\")\n",
    "org5 = np.array(org5)\n",
    "\n",
    "data = [[mse(im0,org0), psnr(im0, org0)],\n",
    "        [mse(im1,org1), psnr(im1, org1)], \n",
    "        [mse(im2,org2), psnr(im2, org2)], \n",
    "        [mse(im3,org3), psnr(im3, org3)], \n",
    "        [mse(im4,org4), psnr(im4, org4)], \n",
    "        [mse(im5,org5), psnr(im5, org5)]]\n",
    "print(pd.DataFrame(data, columns=[\"MSE\",\"PSNR\"]))"
   ]
  },
  {
   "cell_type": "code",
   "execution_count": 36,
   "metadata": {},
   "outputs": [
    {
     "name": "stdout",
     "output_type": "stream",
     "text": [
      "          MSE       PSNR\n",
      "0  129.661907  27.002680\n",
      "1  172.579153  25.760920\n",
      "2  247.513159  24.194821\n",
      "3  350.158664  22.688155\n",
      "4  355.001290  22.628504\n",
      "5  366.918050  22.485113\n"
     ]
    }
   ],
   "source": [
    "#2020-01-05\n",
    "im0 = Image.open(\"checkpoints/year_north/2020-01-05/frame-00005.png\")\n",
    "im0 = np.array(im0)\n",
    "im1 = Image.open(\"checkpoints/year_north/2020-01-05/frame-00006.png\")\n",
    "im1 = np.array(im1)\n",
    "im2 = Image.open(\"checkpoints/year_north/2020-01-05/frame-00007.png\")\n",
    "im2 = np.array(im2)\n",
    "im3 = Image.open(\"checkpoints/year_north/2020-01-05/frame-00008.png\")\n",
    "im3 = np.array(im3)\n",
    "im4 = Image.open(\"checkpoints/year_north/2020-01-05/frame-00009.png\")\n",
    "im4 = np.array(im4)\n",
    "im5 = Image.open(\"checkpoints/year_north/2020-01-05/frame-00010.png\")\n",
    "im5 = np.array(im5)\n",
    "org0 = Image.open(\"pix2pixHD/datasets/north_year/for testing/2020-01-05_22_10_CHB_1356_2.png\")\n",
    "org0 = np.array(org0)\n",
    "org1 = Image.open(\"pix2pixHD/datasets/north_year/for testing/2020-01-05_22_40_CHB_1356_2.png\")\n",
    "org1 = np.array(org1)\n",
    "org2 = Image.open(\"pix2pixHD/datasets/north_year/for testing/2020-01-05_23_10_CHA_1356_2.png\")\n",
    "org2 = np.array(org2)\n",
    "org3 = Image.open(\"pix2pixHD/datasets/north_year/for testing/2020-01-05_23_25_CHA_1356_2.png\")\n",
    "org3 = np.array(org3)\n",
    "org4 = Image.open(\"pix2pixHD/datasets/north_year/for testing/2020-01-05_23_40_CHA_1356_2.png\")\n",
    "org4 = np.array(org4)\n",
    "org5 = Image.open(\"pix2pixHD/datasets/north_year/for testing/2020-01-05_23_55_CHA_1356_2.png\")\n",
    "org5 = np.array(org5)\n",
    "\n",
    "data = [[mse(im0,org0), psnr(im0, org0)],\n",
    "        [mse(im1,org1), psnr(im1, org1)], \n",
    "        [mse(im2,org2), psnr(im2, org2)], \n",
    "        [mse(im3,org3), psnr(im3, org3)], \n",
    "        [mse(im4,org4), psnr(im4, org4)], \n",
    "        [mse(im5,org5), psnr(im5, org5)]]\n",
    "print(pd.DataFrame(data, columns=[\"MSE\",\"PSNR\"]))"
   ]
  },
  {
   "cell_type": "code",
   "execution_count": 38,
   "metadata": {},
   "outputs": [
    {
     "name": "stdout",
     "output_type": "stream",
     "text": [
      "          MSE       PSNR\n",
      "0   93.259669  28.433865\n",
      "1  159.151382  26.112699\n",
      "2  145.110095  26.513827\n",
      "3  128.971014  27.025882\n",
      "4  220.262017  24.701407\n",
      "5  184.027235  25.481983\n"
     ]
    }
   ],
   "source": [
    "#2020-01-20\n",
    "im0 = Image.open(\"checkpoints/year_south/2020-01-20/frame-00005.png\")\n",
    "im0 = np.array(im0)\n",
    "im1 = Image.open(\"checkpoints/year_south/2020-01-20/frame-00006.png\")\n",
    "im1 = np.array(im1)\n",
    "im2 = Image.open(\"checkpoints/year_south/2020-01-20/frame-00007.png\")\n",
    "im2 = np.array(im2)\n",
    "im3 = Image.open(\"checkpoints/year_south/2020-01-20/frame-00008.png\")\n",
    "im3 = np.array(im3)\n",
    "im4 = Image.open(\"checkpoints/year_south/2020-01-20/frame-00009.png\")\n",
    "im4 = np.array(im4)\n",
    "im5 = Image.open(\"checkpoints/year_south/2020-01-20/frame-00010.png\")\n",
    "im5 = np.array(im5)\n",
    "org0 = Image.open(\"pix2pixHD/datasets/south_year/for testing/2020-01-20_22_25_CHB_1356_2.png\")\n",
    "org0 = np.array(org0)\n",
    "org1 = Image.open(\"pix2pixHD/datasets/south_year/for testing/2020-01-20_22_55_CHB_1356_2.png\")\n",
    "org1 = np.array(org1)\n",
    "org2 = Image.open(\"pix2pixHD/datasets/south_year/for testing/2020-01-20_23_10_CHB_1356_2.png\")\n",
    "org2 = np.array(org2)\n",
    "org3 = Image.open(\"pix2pixHD/datasets/south_year/for testing/2020-01-20_23_25_CHB_1356_2.png\")\n",
    "org3 = np.array(org3)\n",
    "org4 = Image.open(\"pix2pixHD/datasets/south_year/for testing/2020-01-20_23_40_CHB_1356_2.png\")\n",
    "org4 = np.array(org4)\n",
    "org5 = Image.open(\"pix2pixHD/datasets/south_year/for testing/2020-01-20_23_55_CHB_1356_2.png\")\n",
    "org5 = np.array(org5)\n",
    "\n",
    "data = [[mse(im0,org0), psnr(im0, org0)],\n",
    "        [mse(im1,org1), psnr(im1, org1)], \n",
    "        [mse(im2,org2), psnr(im2, org2)], \n",
    "        [mse(im3,org3), psnr(im3, org3)], \n",
    "        [mse(im4,org4), psnr(im4, org4)], \n",
    "        [mse(im5,org5), psnr(im5, org5)]]\n",
    "print(pd.DataFrame(data, columns=[\"MSE\",\"PSNR\"]))"
   ]
  },
  {
   "cell_type": "code",
   "execution_count": 39,
   "metadata": {},
   "outputs": [
    {
     "name": "stdout",
     "output_type": "stream",
     "text": [
      "          MSE       PSNR\n",
      "0  117.193118  27.441783\n",
      "1  182.183802  25.525706\n",
      "2  138.882915  26.704315\n",
      "3  137.605421  26.744448\n",
      "4  217.110502  24.763995\n",
      "5  210.985804  24.888271\n"
     ]
    }
   ],
   "source": [
    "#2020-01-05\n",
    "im0 = Image.open(\"checkpoints/year_south/2020-01-05/frame-00005.png\")\n",
    "im0 = np.array(im0)\n",
    "im1 = Image.open(\"checkpoints/year_south/2020-01-05/frame-00006.png\")\n",
    "im1 = np.array(im1)\n",
    "im2 = Image.open(\"checkpoints/year_south/2020-01-05/frame-00007.png\")\n",
    "im2 = np.array(im2)\n",
    "im3 = Image.open(\"checkpoints/year_south/2020-01-05/frame-00008.png\")\n",
    "im3 = np.array(im3)\n",
    "im4 = Image.open(\"checkpoints/year_south/2020-01-05/frame-00009.png\")\n",
    "im4 = np.array(im4)\n",
    "im5 = Image.open(\"checkpoints/year_south/2020-01-05/frame-00010.png\")\n",
    "im5 = np.array(im5)\n",
    "org0 = Image.open(\"pix2pixHD/datasets/south_year/for testing/2020-01-05_22_25_CHB_1356_2.png\")\n",
    "org0 = np.array(org0)\n",
    "org1 = Image.open(\"pix2pixHD/datasets/south_year/for testing/2020-01-05_22_55_CHB_1356_2.png\")\n",
    "org1 = np.array(org1)\n",
    "org2 = Image.open(\"pix2pixHD/datasets/south_year/for testing/2020-01-05_23_10_CHB_1356_2.png\")\n",
    "org2 = np.array(org2)\n",
    "org3 = Image.open(\"pix2pixHD/datasets/south_year/for testing/2020-01-05_23_25_CHB_1356_2.png\")\n",
    "org3 = np.array(org3)\n",
    "org4 = Image.open(\"pix2pixHD/datasets/south_year/for testing/2020-01-05_23_40_CHB_1356_2.png\")\n",
    "org4 = np.array(org4)\n",
    "org5 = Image.open(\"pix2pixHD/datasets/south_year/for testing/2020-01-05_23_55_CHB_1356_2.png\")\n",
    "org5 = np.array(org5)\n",
    "\n",
    "data = [[mse(im0,org0), psnr(im0, org0)],\n",
    "        [mse(im1,org1), psnr(im1, org1)], \n",
    "        [mse(im2,org2), psnr(im2, org2)], \n",
    "        [mse(im3,org3), psnr(im3, org3)], \n",
    "        [mse(im4,org4), psnr(im4, org4)], \n",
    "        [mse(im5,org5), psnr(im5, org5)]]\n",
    "print(pd.DataFrame(data, columns=[\"MSE\",\"PSNR\"]))"
   ]
  },
  {
   "cell_type": "code",
   "execution_count": 40,
   "metadata": {},
   "outputs": [
    {
     "name": "stdout",
     "output_type": "stream",
     "text": [
      "          MSE       PSNR\n",
      "0  170.154234  25.822376\n",
      "1  324.027546  23.024984\n",
      "2  315.126004  23.145961\n",
      "3  311.692913  23.193534\n",
      "4  374.298539  22.398622\n",
      "5  348.609049  22.707417\n"
     ]
    }
   ],
   "source": [
    "#2020-01-10\n",
    "im0 = Image.open(\"checkpoints/year_south/2020-01-10/frame-00005.png\")\n",
    "im0 = np.array(im0)\n",
    "im1 = Image.open(\"checkpoints/year_south/2020-01-10/frame-00006.png\")\n",
    "im1 = np.array(im1)\n",
    "im2 = Image.open(\"checkpoints/year_south/2020-01-10/frame-00007.png\")\n",
    "im2 = np.array(im2)\n",
    "im3 = Image.open(\"checkpoints/year_south/2020-01-10/frame-00008.png\")\n",
    "im3 = np.array(im3)\n",
    "im4 = Image.open(\"checkpoints/year_south/2020-01-10/frame-00009.png\")\n",
    "im4 = np.array(im4)\n",
    "im5 = Image.open(\"checkpoints/year_south/2020-01-10/frame-00010.png\")\n",
    "im5 = np.array(im5)\n",
    "org0 = Image.open(\"pix2pixHD/datasets/south_year/for testing/2020-01-10_22_25_CHB_1356_2.png\")\n",
    "org0 = np.array(org0)\n",
    "org1 = Image.open(\"pix2pixHD/datasets/south_year/for testing/2020-01-10_22_55_CHB_1356_2.png\")\n",
    "org1 = np.array(org1)\n",
    "org2 = Image.open(\"pix2pixHD/datasets/south_year/for testing/2020-01-10_23_10_CHB_1356_2.png\")\n",
    "org2 = np.array(org2)\n",
    "org3 = Image.open(\"pix2pixHD/datasets/south_year/for testing/2020-01-10_23_25_CHB_1356_2.png\")\n",
    "org3 = np.array(org3)\n",
    "org4 = Image.open(\"pix2pixHD/datasets/south_year/for testing/2020-01-10_23_40_CHB_1356_2.png\")\n",
    "org4 = np.array(org4)\n",
    "org5 = Image.open(\"pix2pixHD/datasets/south_year/for testing/2020-01-10_23_55_CHB_1356_2.png\")\n",
    "org5 = np.array(org5)\n",
    "\n",
    "data = [[mse(im0,org0), psnr(im0, org0)],\n",
    "        [mse(im1,org1), psnr(im1, org1)], \n",
    "        [mse(im2,org2), psnr(im2, org2)], \n",
    "        [mse(im3,org3), psnr(im3, org3)], \n",
    "        [mse(im4,org4), psnr(im4, org4)], \n",
    "        [mse(im5,org5), psnr(im5, org5)]]\n",
    "print(pd.DataFrame(data, columns=[\"MSE\",\"PSNR\"]))"
   ]
  },
  {
   "cell_type": "code",
   "execution_count": null,
   "metadata": {},
   "outputs": [],
   "source": []
  }
 ],
 "metadata": {
  "kernelspec": {
   "display_name": "Python 3",
   "language": "python",
   "name": "python3"
  },
  "language_info": {
   "codemirror_mode": {
    "name": "ipython",
    "version": 3
   },
   "file_extension": ".py",
   "mimetype": "text/x-python",
   "name": "python",
   "nbconvert_exporter": "python",
   "pygments_lexer": "ipython3",
   "version": "3.8.6"
  }
 },
 "nbformat": 4,
 "nbformat_minor": 4
}
