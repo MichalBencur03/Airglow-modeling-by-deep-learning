{
 "cells": [
  {
   "cell_type": "code",
   "execution_count": null,
   "metadata": {},
   "outputs": [],
   "source": [
    "!git clone -b video https://github.com/jctestud/pix2pixHD.git"
   ]
  },
  {
   "cell_type": "code",
   "execution_count": 2,
   "metadata": {},
   "outputs": [
    {
     "name": "stdout",
     "output_type": "stream",
     "text": [
      "Collecting netCDF4\n",
      "  Downloading netCDF4-1.5.8-cp38-cp38-manylinux_2_17_x86_64.manylinux2014_x86_64.whl (4.7 MB)\n",
      "\u001b[K     |████████████████████████████████| 4.7 MB 7.8 MB/s eta 0:00:01\n",
      "\u001b[?25hRequirement already satisfied: numpy>=1.9 in /opt/conda/lib/python3.8/site-packages (from netCDF4) (1.18.5)\n",
      "Collecting cftime\n",
      "  Downloading cftime-1.6.0-cp38-cp38-manylinux_2_17_x86_64.manylinux2014_x86_64.whl (238 kB)\n",
      "\u001b[K     |████████████████████████████████| 238 kB 71.6 MB/s eta 0:00:01\n",
      "\u001b[?25hRequirement already satisfied: numpy>=1.9 in /opt/conda/lib/python3.8/site-packages (from netCDF4) (1.18.5)\n",
      "Installing collected packages: cftime, netCDF4\n",
      "Successfully installed cftime-1.6.0 netCDF4-1.5.8\n",
      "Collecting basemap\n",
      "  Downloading basemap-1.3.2-cp38-cp38-manylinux1_x86_64.whl (862 kB)\n",
      "\u001b[K     |████████████████████████████████| 862 kB 7.3 MB/s eta 0:00:01\n",
      "\u001b[?25hRequirement already satisfied: six<1.16,>=1.10 in /opt/conda/lib/python3.8/site-packages (from basemap) (1.15.0)\n",
      "Requirement already satisfied: matplotlib<3.6,>=1.5 in /opt/conda/lib/python3.8/site-packages (from basemap) (3.3.3)\n",
      "Collecting basemap-data<1.4,>=1.3.2\n",
      "  Downloading basemap_data-1.3.2-py2.py3-none-any.whl (30.5 MB)\n",
      "\u001b[K     |████████████████████████████████| 30.5 MB 57.6 MB/s eta 0:00:01\n",
      "\u001b[?25hRequirement already satisfied: pyparsing!=2.0.4,!=2.1.2,!=2.1.6,>=2.0.3 in /opt/conda/lib/python3.8/site-packages (from matplotlib<3.6,>=1.5->basemap) (2.4.7)\n",
      "Requirement already satisfied: pillow>=6.2.0 in /opt/conda/lib/python3.8/site-packages (from matplotlib<3.6,>=1.5->basemap) (8.0.1)\n",
      "Requirement already satisfied: cycler>=0.10 in /opt/conda/lib/python3.8/site-packages (from matplotlib<3.6,>=1.5->basemap) (0.10.0)\n",
      "Requirement already satisfied: python-dateutil>=2.1 in /opt/conda/lib/python3.8/site-packages (from matplotlib<3.6,>=1.5->basemap) (2.8.1)\n",
      "Requirement already satisfied: kiwisolver>=1.0.1 in /opt/conda/lib/python3.8/site-packages (from matplotlib<3.6,>=1.5->basemap) (1.3.1)\n",
      "Requirement already satisfied: six<1.16,>=1.10 in /opt/conda/lib/python3.8/site-packages (from basemap) (1.15.0)\n",
      "Collecting numpy<1.23,>=1.21\n",
      "  Downloading numpy-1.22.3-cp38-cp38-manylinux_2_17_x86_64.manylinux2014_x86_64.whl (16.8 MB)\n",
      "\u001b[K     |████████████████████████████████| 16.8 MB 63.9 MB/s eta 0:00:01\n",
      "\u001b[?25hCollecting pyproj<3.4.0,>=1.9.3\n",
      "  Downloading pyproj-3.3.1-cp38-cp38-manylinux_2_17_x86_64.manylinux2014_x86_64.whl (7.7 MB)\n",
      "\u001b[K     |████████████████████████████████| 7.7 MB 13.2 MB/s eta 0:00:01\n",
      "\u001b[?25hRequirement already satisfied: certifi in /opt/conda/lib/python3.8/site-packages (from pyproj<3.4.0,>=1.9.3->basemap) (2020.12.5)\n",
      "Collecting pyshp<2.2,>=1.2\n",
      "  Downloading pyshp-2.1.3.tar.gz (219 kB)\n",
      "\u001b[K     |████████████████████████████████| 219 kB 31.0 MB/s eta 0:00:01\n",
      "\u001b[?25hRequirement already satisfied: six<1.16,>=1.10 in /opt/conda/lib/python3.8/site-packages (from basemap) (1.15.0)\n",
      "Building wheels for collected packages: pyshp\n",
      "  Building wheel for pyshp (setup.py) ... \u001b[?25ldone\n",
      "\u001b[?25h  Created wheel for pyshp: filename=pyshp-2.1.3-py3-none-any.whl size=37263 sha256=ab89686e544b2a15abb24b1afd0b1cc2485f3aa1c57ff5ecc06c2f2b1c94eb89\n",
      "  Stored in directory: /home/jovyan/.cache/pip/wheels/1f/1b/b5/54affbefc8a7e2bdf1da000fc576b8a1c91338f1f327a04f4c\n",
      "Successfully built pyshp\n",
      "Installing collected packages: numpy, pyshp, pyproj, basemap-data, basemap\n",
      "  Attempting uninstall: numpy\n",
      "    Found existing installation: numpy 1.18.5\n",
      "    Uninstalling numpy-1.18.5:\n",
      "      Successfully uninstalled numpy-1.18.5\n",
      "\u001b[31mERROR: pip's dependency resolver does not currently take into account all the packages that are installed. This behaviour is the source of the following dependency conflicts.\n",
      "torch 1.7.0 requires dataclasses, which is not installed.\n",
      "torch 1.7.0 requires future, which is not installed.\n",
      "tensorflow 2.3.1 requires numpy<1.19.0,>=1.16.0, but you have numpy 1.22.3 which is incompatible.\u001b[0m\n",
      "Successfully installed basemap-1.3.2 basemap-data-1.3.2 numpy-1.22.3 pyproj-3.3.1 pyshp-2.1.3\n"
     ]
    }
   ],
   "source": [
    "!pip install netCDF4\n",
    "!pip install basemap"
   ]
  },
  {
   "cell_type": "code",
   "execution_count": null,
   "metadata": {},
   "outputs": [],
   "source": [
    "from netCDF4 import Dataset\n",
    "import matplotlib.pyplot as plt\n",
    "import numpy as np\n",
    "import glob\n",
    "from datetime import datetime, date, timedelta \n",
    "from pathlib import Path\n",
    "from mpl_toolkits.basemap import Basemap"
   ]
  },
  {
   "cell_type": "code",
   "execution_count": null,
   "metadata": {},
   "outputs": [],
   "source": [
    "files = glob.glob(r'data/2021/*/*.nc')\n",
    "\n",
    "for f in files:\n",
    "    nc = Dataset(f)\n",
    "    plt.close()\n",
    "    lon = np.transpose(nc.variables['REFERENCE_POINT_LON'][:])\n",
    "    lat = np.transpose(nc.variables['REFERENCE_POINT_LAT'][:])\n",
    "    mean = lat.data;\n",
    "    mean = mean[~np.isnan(mean)];\n",
    "    mean = mean.mean();\n",
    "    radiance = nc.variables['RADIANCE'][:]\n",
    "    wavelength = nc.variables['WAVELENGTH'][:]\n",
    "    wave_len = len(wavelength) / 2\n",
    "    wave_len = int(wave_len)\n",
    "    wave_len2 = len(wavelength[0])/ 2\n",
    "    wave_len2 = int(wave_len2)\n",
    "    sza = np.transpose(nc.variables['SOLAR_ZENITH_ANGLE'][:])\n",
    "    O5s_ids = np.argwhere((135.0 <= wavelength[wave_len,wave_len2,:]) & (wavelength[wave_len,wave_len2,:] <= 137.0))\n",
    "    O5s = np.nansum(radiance[:,:,O5s_ids],axis = 2)*.04\n",
    "    O5s = np.transpose(O5s[:,:,0])\n",
    "        \n",
    "    LBH_ids = np.argwhere((141.0 < wavelength[wave_len,wave_len2,:]) & (wavelength[wave_len,wave_len2,:] < 153.0))\n",
    "    LBHs = np.nansum(radiance[:,:,LBH_ids],axis = 2)*.04\n",
    "    LBHs = np.transpose(LBHs[:,:,0])\n",
    "\n",
    "    mp = Basemap(projection='geos',\n",
    "            rsphere=(6378137.00,6356752.3142),\n",
    "            resolution='c',\n",
    "            lon_0=-45)\n",
    "\n",
    "    x,y = mp(lon,lat)\n",
    "    hour = f[40:42]\n",
    "    minutes = f[43:45]\n",
    "    day_num = f[36:39]\n",
    "    if hour != \"00\":\n",
    "        day_num.rjust(13 + len(day_num), '0') \n",
    "        year = 2020\n",
    "        start_date = date(int(year), 1, 1)\n",
    "        result_date = start_date + timedelta(days=int(day_num) - 1) \n",
    "        result = result_date.strftime(\"%Y-%m-%d\")\n",
    "        if 'CHA' in f:\n",
    "            channel = \"CHA\"\n",
    "    \n",
    "        if 'CHB' in f:\n",
    "            channel = \"CHB\"\n",
    "    \n",
    "        c_scheme = mp.pcolor(x,y,O5s,cmap = 'jet',vmin=0,vmax=40)\n",
    "        mp.drawcoastlines()\n",
    "   \n",
    "        if mean > 0:\n",
    "            plt.savefig(\"pix2pixHD/datasets/north_year/test_frames/\" + result + \"_\" + hour + \"_\" + minutes + \"_\" + channel +\"_1356.png\")\n",
    "        if mean < 0:\n",
    "            plt.savefig(\"pix2pixHD/datasets/south_year/test_frames/\" + result + \"_\" + hour + \"_\" + minutes + \"_\" + channel +\"_1356.png\")\n",
    "\n",
    "        \n",
    "    \n",
    "    plt.close()"
   ]
  },
  {
   "cell_type": "code",
   "execution_count": null,
   "metadata": {},
   "outputs": [],
   "source": []
  }
 ],
 "metadata": {
  "kernelspec": {
   "display_name": "Python 3",
   "language": "python",
   "name": "python3"
  },
  "language_info": {
   "codemirror_mode": {
    "name": "ipython",
    "version": 3
   },
   "file_extension": ".py",
   "mimetype": "text/x-python",
   "name": "python",
   "nbconvert_exporter": "python",
   "pygments_lexer": "ipython3",
   "version": "3.8.6"
  }
 },
 "nbformat": 4,
 "nbformat_minor": 4
}
