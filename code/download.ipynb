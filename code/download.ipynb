{
 "cells": [
  {
   "cell_type": "code",
   "execution_count": null,
   "metadata": {},
   "outputs": [],
   "source": [
    "import requests\n",
    "from bs4 import BeautifulSoup\n",
    "import urllib\n",
    "import os\n",
    "from urllib.parse import urlparse\n",
    "import glob\n",
    "from pathlib import Path"
   ]
  },
  {
   "cell_type": "code",
   "execution_count": 3,
   "metadata": {},
   "outputs": [],
   "source": [
    "iteration = 1\n",
    "day = 1;\n",
    "how_many = 365\n",
    "year = 2021"
   ]
  },
  {
   "cell_type": "code",
   "execution_count": null,
   "metadata": {},
   "outputs": [],
   "source": [
    "while iteration <= how_many:\n",
    "    \n",
    "    def get_url_paths(url, ext='', params={}):\n",
    "        response = requests.get(url, params=params)\n",
    "        if response.ok:\n",
    "            response_text = response.text\n",
    "        else:\n",
    "            return response.raise_for_status()\n",
    "        soup = BeautifulSoup(response_text, 'html.parser')\n",
    "        parent = [url + node.get('href') for node in soup.find_all('a') if node.get('href').endswith(ext)]\n",
    "        return parent\n",
    "\n",
    "    if day < 10:\n",
    "        url = 'https://spdf.gsfc.nasa.gov/pub/data/gold/level1c/' + str(year) + '/00' + str(day) + \"/\"\n",
    "    if day >= 10 and day < 100:\n",
    "        url = 'https://spdf.gsfc.nasa.gov/pub/data/gold/level1c/' + str(year) + '/0' + str(day) + \"/\"\n",
    "    if day >= 100:\n",
    "        url = 'https://spdf.gsfc.nasa.gov/pub/data/gold/level1c/' + str(year) + '/' + str(day) + \"/\"\n",
    "    ext = 'nc'\n",
    "    result = get_url_paths(url, ext)\n",
    "    \n",
    "    result = [k for k in result if 'NI1' in k]\n",
    "    \n",
    "    for f in result:\n",
    "        a = urlparse(f)\n",
    "        name = os.path.basename(a.path)\n",
    "        testfile = urllib.request.URLopener()\n",
    "        testfile.retrieve(f, name)\n",
    "    day = day + 1;\n",
    "    iteration = iteration + 1;\n",
    "    \n",
    "    files = glob.glob(r'*.nc')\n",
    "\n",
    "    for f in files:\n",
    "        day = f[22:25]\n",
    "        Path(\"data/\" + str(year) + \"/\" + day).mkdir(parents=True, exist_ok=True)\n",
    "        Path(f).rename(\"data/\" + str(year) + \"/\" + day + \"/\" + f)\n"
   ]
  },
  {
   "cell_type": "code",
   "execution_count": null,
   "metadata": {},
   "outputs": [],
   "source": [
    "files = glob.glob(r'data/' + str(year) + '/*/*.nc')\n",
    "\n",
    "for f in files:\n",
    "    os.rename(f, f[0:45] + \".nc\")"
   ]
  },
  {
   "cell_type": "code",
   "execution_count": null,
   "metadata": {},
   "outputs": [],
   "source": []
  }
 ],
 "metadata": {
  "kernelspec": {
   "display_name": "Python 3",
   "language": "python",
   "name": "python3"
  },
  "language_info": {
   "codemirror_mode": {
    "name": "ipython",
    "version": 3
   },
   "file_extension": ".py",
   "mimetype": "text/x-python",
   "name": "python",
   "nbconvert_exporter": "python",
   "pygments_lexer": "ipython3",
   "version": "3.8.6"
  }
 },
 "nbformat": 4,
 "nbformat_minor": 4
}
