{
 "cells": [
  {
   "cell_type": "code",
   "execution_count": null,
   "metadata": {},
   "outputs": [],
   "source": [
    "from PIL import Image, ImageDraw\n",
    "import glob\n",
    "import os"
   ]
  },
  {
   "cell_type": "code",
   "execution_count": null,
   "metadata": {},
   "outputs": [],
   "source": [
    "#files = glob.glob(r'pix2pixHD/datasets/south_year/for testing/*.png')\n",
    "files = glob.glob(r'checkpoints/year_north/frames/*.jpg')"
   ]
  },
  {
   "cell_type": "code",
   "execution_count": 16,
   "metadata": {},
   "outputs": [],
   "source": [
    "for filename in files:\n",
    "\n",
    "    \n",
    "    img = Image.open(filename)\n",
    "\n",
    "    \n",
    "    width, height = img.size\n",
    "    x = (width - height)//2\n",
    "    img_cropped = img.crop((x, 0, x+height, height))\n",
    "\n",
    "    \n",
    "    mask = Image.new('L', img_cropped.size)\n",
    "    mask_draw = ImageDraw.Draw(mask)\n",
    "    width, height = img_cropped.size\n",
    "    mask_draw.ellipse((40, 35, width-31, height-37), fill=255)\n",
    "    #mask.show()\n",
    "\n",
    "    \n",
    "    img_cropped.putalpha(mask)\n",
    "\n",
    "    \n",
    "    img_cropped.save(os.path.splitext(filename)[0] + \".png\")\n",
    "    #img_cropped.save(os.path.splitext(filename)[0] + \"_2.png\")\n",
    "\n",
    "    img_cropped.show()"
   ]
  },
  {
   "cell_type": "code",
   "execution_count": null,
   "metadata": {},
   "outputs": [],
   "source": []
  }
 ],
 "metadata": {
  "kernelspec": {
   "display_name": "Python 3",
   "language": "python",
   "name": "python3"
  },
  "language_info": {
   "codemirror_mode": {
    "name": "ipython",
    "version": 3
   },
   "file_extension": ".py",
   "mimetype": "text/x-python",
   "name": "python",
   "nbconvert_exporter": "python",
   "pygments_lexer": "ipython3",
   "version": "3.8.6"
  }
 },
 "nbformat": 4,
 "nbformat_minor": 4
}
